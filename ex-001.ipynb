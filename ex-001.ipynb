Exercícios 001
Prática dos conteúdos estudados: construindo e operando listas e strings
