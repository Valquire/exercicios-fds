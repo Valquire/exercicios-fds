{
  "nbformat": 4,
  "nbformat_minor": 0,
  "metadata": {
    "colab": {
      "name": "ex-001.ipynb",
      "provenance": [],
      "authorship_tag": "ABX9TyMiS5nJ3Qm4tvP1wPlwqweE",
      "include_colab_link": true
    },
    "kernelspec": {
      "name": "python3",
      "display_name": "Python 3"
    },
    "language_info": {
      "name": "python"
    }
  },
  "cells": [
    {
      "cell_type": "markdown",
      "metadata": {
        "id": "view-in-github",
        "colab_type": "text"
      },
      "source": [
        "<a href=\"https://colab.research.google.com/github/Valquire/exercicios-fds/blob/main/ex_001.ipynb\" target=\"_parent\"><img src=\"https://colab.research.google.com/assets/colab-badge.svg\" alt=\"Open In Colab\"/></a>"
      ]
    },
    {
      "cell_type": "markdown",
      "source": [
        ""
      ],
      "metadata": {
        "id": "A0W_7z_cJETM"
      }
    },
    {
      "cell_type": "code",
      "source": [
        "'Hello Colab'"
      ],
      "metadata": {
        "colab": {
          "base_uri": "https://localhost:8080/",
          "height": 35
        },
        "id": "JT2R1FHaJaxX",
        "outputId": "7c8f224c-0d6e-47d4-d8d1-4f0899fa3ae0"
      },
      "execution_count": 2,
      "outputs": [
        {
          "output_type": "execute_result",
          "data": {
            "text/plain": [
              "'Hello Colab'"
            ],
            "application/vnd.google.colaboratory.intrinsic+json": {
              "type": "string"
            }
          },
          "metadata": {},
          "execution_count": 2
        }
      ]
    },
    {
      "cell_type": "markdown",
      "source": [
        "Prática dos conteúdos estudados: construindo e operando listas e strings"
      ],
      "metadata": {
        "id": "a21T0rJZMK0T"
      }
    },
    {
      "cell_type": "markdown",
      "source": [
        "Seja x='cachorro' e y='gato'. Quais são os valores retornados pelas operações:\n",
        "x + y\n",
        "\n",
        "*   x + y\n",
        "*   \"O\" + x + \"não gosta de \" + y\n",
        "*   x*6"
      ],
      "metadata": {
        "id": "izW1FuHYMZbk"
      }
    },
    {
      "cell_type": "code",
      "source": [
        ""
      ],
      "metadata": {
        "id": "TNmYnvOOMnH7"
      },
      "execution_count": null,
      "outputs": []
    }
  ]
}